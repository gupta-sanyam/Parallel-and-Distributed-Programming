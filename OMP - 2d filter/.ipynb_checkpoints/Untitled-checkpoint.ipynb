{
 "cells": [
  {
   "cell_type": "code",
   "execution_count": 1,
   "id": "5d702b87-9019-41a0-b98b-2c4d2514ba5d",
   "metadata": {},
   "outputs": [],
   "source": [
    "import numpy as np"
   ]
  },
  {
   "cell_type": "code",
   "execution_count": 14,
   "id": "ab40d143-a796-49d0-a2b8-2ff3a4d9200d",
   "metadata": {},
   "outputs": [],
   "source": [
    "kList = [0.0022615, 21.5986, 0.0149034, 150.677, 0.00033469, 45.0196, 10275.2, 4483.79, 0.25458]\n",
    "kk = np.matrix(kList).reshape((3,3))"
   ]
  },
  {
   "cell_type": "code",
   "execution_count": 15,
   "id": "d9c04a28-56f8-4d44-8e98-3372f8f5e84c",
   "metadata": {},
   "outputs": [],
   "source": [
    "AList = [0.0022615, 21.5986, 0.0149034, 0.00033469, 45.0196, 10275.2, 0.25458, 43.1843, 1.98381e-07]\n",
    "aa = np.matrix(AList).reshape((3,3))"
   ]
  },
  {
   "cell_type": "code",
   "execution_count": 24,
   "id": "e5db0a39-04ad-48c3-aa6d-5495fde5a749",
   "metadata": {},
   "outputs": [],
   "source": [
    "out = np.multiply(kk, aa)"
   ]
  },
  {
   "cell_type": "code",
   "execution_count": 25,
   "id": "99c173dd-81ae-46e1-8b32-74bc448b65e7",
   "metadata": {},
   "outputs": [
    {
     "data": {
      "text/plain": [
       "659297.1520799312"
      ]
     },
     "execution_count": 25,
     "metadata": {},
     "output_type": "execute_result"
    }
   ],
   "source": [
    "# out.reshape((9,1)).sum()"
   ]
  },
  {
   "cell_type": "code",
   "execution_count": 26,
   "id": "37ae8f0e-d0d6-4406-8d6d-3c2350e524a0",
   "metadata": {},
   "outputs": [
    {
     "data": {
      "text/plain": [
       "matrix([[2.26150e-03, 2.15986e+01, 1.49034e-02],\n",
       "        [1.50677e+02, 3.34690e-04, 4.50196e+01],\n",
       "        [1.02752e+04, 4.48379e+03, 2.54580e-01]])"
      ]
     },
     "execution_count": 26,
     "metadata": {},
     "output_type": "execute_result"
    }
   ],
   "source": [
    "kk"
   ]
  },
  {
   "cell_type": "code",
   "execution_count": 27,
   "id": "08b64330-6920-476d-8102-1ad126ac9e64",
   "metadata": {},
   "outputs": [
    {
     "data": {
      "text/plain": [
       "matrix([[2.26150e-03, 2.15986e+01, 1.49034e-02],\n",
       "        [3.34690e-04, 4.50196e+01, 1.02752e+04],\n",
       "        [2.54580e-01, 4.31843e+01, 1.98381e-07]])"
      ]
     },
     "execution_count": 27,
     "metadata": {},
     "output_type": "execute_result"
    }
   ],
   "source": [
    "aa"
   ]
  }
 ],
 "metadata": {
  "kernelspec": {
   "display_name": "Python 3 (ipykernel)",
   "language": "python",
   "name": "python3"
  },
  "language_info": {
   "codemirror_mode": {
    "name": "ipython",
    "version": 3
   },
   "file_extension": ".py",
   "mimetype": "text/x-python",
   "name": "python",
   "nbconvert_exporter": "python",
   "pygments_lexer": "ipython3",
   "version": "3.8.10"
  }
 },
 "nbformat": 4,
 "nbformat_minor": 5
}
